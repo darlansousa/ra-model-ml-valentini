{
 "cells": [
  {
   "cell_type": "markdown",
   "id": "a0659187",
   "metadata": {},
   "source": [
    "### Classificando textos com machine learning\n",
    "\n",
    "Este notebook contem a classificação de reclamações do site Reclame aqui utilizando modelos de machine learning. \n",
    "Algoritmo utilizado:\n",
    "\n",
    "* SVM com estimador SGDClassifier\n"
   ]
  },
  {
   "cell_type": "markdown",
   "id": "7ae259c1",
   "metadata": {},
   "source": [
    "### Dataset\n",
    "\n",
    "O dataset possuí texto da reclamação e sua respectiva avaliação."
   ]
  },
  {
   "cell_type": "markdown",
   "id": "02ecfb50",
   "metadata": {},
   "source": [
    "### Importações"
   ]
  },
  {
   "cell_type": "code",
   "execution_count": 40,
   "id": "90ff736e",
   "metadata": {},
   "outputs": [
    {
     "name": "stdout",
     "output_type": "stream",
     "text": [
      "Python: 3.11.6 (main, Oct  3 2023, 00:00:00) [GCC 13.2.1 20230728 (Red Hat 13.2.1-1)]\n",
      "NLTK: 3.8.1\n",
      "Scikit-learn: 1.2.0\n",
      "Pandas: 1.5.2\n",
      "Numpy: 1.24.3\n"
     ]
    }
   ],
   "source": [
    "import sys\n",
    "\n",
    "import pandas as pd\n",
    "import numpy as np\n",
    "from unidecode import unidecode\n",
    "\n",
    "import nltk\n",
    "from nltk.corpus import stopwords\n",
    "\n",
    "import sklearn\n",
    "from sklearn.model_selection import train_test_split\n",
    "from sklearn.feature_extraction.text import TfidfVectorizer\n",
    "from sklearn.feature_extraction.text import TfidfVectorizer\n",
    "from sklearn.pipeline import Pipeline\n",
    "from sklearn.linear_model import SGDClassifier\n",
    "from sklearn.model_selection import train_test_split\n",
    "from sklearn.metrics import accuracy_score\n",
    "from sklearn import metrics\n",
    "from sklearn.metrics import confusion_matrix\n",
    "\n",
    "import matplotlib.pyplot as plt\n",
    "%matplotlib inline\n",
    "\n",
    "print('Python: {}'.format(sys.version))\n",
    "print('NLTK: {}'.format(nltk.__version__))\n",
    "print('Scikit-learn: {}'.format(sklearn.__version__))\n",
    "print('Pandas: {}'.format(pd.__version__))\n",
    "print('Numpy: {}'.format(np.__version__))\n"
   ]
  },
  {
   "cell_type": "markdown",
   "id": "35c023d9",
   "metadata": {},
   "source": [
    "### Funçẽos e operações globais"
   ]
  },
  {
   "cell_type": "code",
   "execution_count": 41,
   "id": "d256d43e",
   "metadata": {},
   "outputs": [
    {
     "name": "stderr",
     "output_type": "stream",
     "text": [
      "[nltk_data] Downloading package rslp to /home/darlan/nltk_data...\n",
      "[nltk_data]   Package rslp is already up-to-date!\n"
     ]
    }
   ],
   "source": [
    "#Operações globais\n",
    "import warnings\n",
    "warnings.simplefilter(\"ignore\")\n",
    "\n",
    "stop_words = set(stopwords.words('portuguese'))\n",
    "nltk.download('rslp')\n",
    "\n",
    "\n",
    "##Funções\n",
    "def concat_filter(row):\n",
    "    \n",
    "    if pd.notnull(row['title']) and pd.notnull(row['description']):\n",
    "        return f\"{row['title']}. {row['description']}\"\n",
    "    \n",
    "    if pd.notnull(row['title']):\n",
    "        return f\"{row['title']}\"\n",
    "    \n",
    "    if pd.notnull(row['description']):\n",
    "        return f\"{row['description']}\"\n",
    "    \n",
    "    return None\n",
    "\n",
    "\n",
    "def replace_words(text_messages):\n",
    "    # Substituindo e-mails, urls númeoros de telefone, outros números e esprços\n",
    "\n",
    "    # Substituindo por 'emailaddress'\n",
    "    processed = text_messages.str.replace(r'^.+@[^\\.].*\\.[a-z]{2,}$',\n",
    "                                     'emailaddress')\n",
    "\n",
    "    # Substituindo por 'webaddress'\n",
    "    processed = processed.str.replace(r'(https?:\\/\\/(?:www\\.|(?!www))[a-zA-Z0-9][a-zA-Z0-9-]+[a-zA-Z0-9]\\.[^\\s]{2,}|www\\.[a-zA-Z0-9][a-zA-Z0-9-]+[a-zA-Z0-9]\\.[^\\s]{2,}|https?:\\/\\/(?:www\\.|(?!www))[a-zA-Z0-9]+\\.[^\\s]{2,}|www\\.[a-zA-Z0-9]+\\.[^\\s]{2,})',\n",
    "                                      'webaddress')\n",
    "\n",
    "    # Substituindo por 'moneysymb' (£ can by typed with ALT key + 156)\n",
    "    processed = processed.str.replace(r'[\\$\\xA2-\\xA5\\u058F\\u060B\\u09F2\\u09F3\\u09FB\\u0AF1\\u0BF9\\u0E3F\\u17DB\\u20A0-\\u20BD\\uA838\\uFDFC\\uFE69\\uFF04\\uFFE0\\uFFE1\\uFFE5\\uFFE6]', 'moneysymb')\n",
    "\n",
    "    # Substituindo por 'phonenumber'\n",
    "    processed = processed.str.replace(r'^\\([1-9]{2}\\) (?:[2-8]|9[0-9])[0-9]{3}\\-[0-9]{4}$',\n",
    "                                      'phonenumbr')\n",
    "\n",
    "    # Substituindo por with 'numbr'\n",
    "    processed = processed.str.replace(r'\\d+(\\.\\d+)?', 'numbr')\n",
    "\n",
    "    # Removendo pontuação\n",
    "    processed = processed.str.replace(r'[^\\w\\d\\s]', ' ')\n",
    "\n",
    "    # Removendo espaços em branco\n",
    "    processed = processed.str.replace(r'\\s+', ' ')\n",
    "\n",
    "    # Removendo espaços em branco\n",
    "    processed = processed.str.replace(r'^\\s+|\\s+?$', '')\n",
    "\n",
    "    # Removendo acentuação\n",
    "    processed = processed.apply(unidecode)\n",
    "\n",
    "    # convertendo para minúsculas\n",
    "    processed = processed.str.lower()\n",
    "    \n",
    "    return processed\n",
    "\n",
    "\n",
    "def remove_stop_words(text):\n",
    "    # Removendo stopwords em português\n",
    "    return text.apply(lambda x: ' '.join(term for term in x.split() if term not in stop_words))\n",
    "\n",
    "\n",
    "def stem_words(text):\n",
    "    ps = nltk.stem.RSLPStemmer()\n",
    "    return text.apply(lambda x: ' '.join(ps.stem(term) for term in x.split()))\n",
    "\n",
    "def formating(text):\n",
    "    text = replace_words(text)\n",
    "    text = remove_stop_words(text)\n",
    "    text = stem_words(text)\n",
    "    return text\n",
    "\n",
    "def generate_random_text(dataset, num_sentences=3):\n",
    "    random_text = ''\n",
    "    for _ in range(num_sentences):\n",
    "        random_sentence = random.choice(dataset)\n",
    "        random_text += random_sentence + ' '\n",
    "    return random_text\n"
   ]
  },
  {
   "cell_type": "markdown",
   "id": "54744bed",
   "metadata": {},
   "source": [
    "### Carregamento dos dados"
   ]
  },
  {
   "cell_type": "code",
   "execution_count": 42,
   "id": "a037d517",
   "metadata": {},
   "outputs": [],
   "source": [
    "file = '/home/darlan/projetos/PA/projeto/data/data.xlsx'\n",
    "df = pd.read_excel(file)"
   ]
  },
  {
   "cell_type": "code",
   "execution_count": 43,
   "id": "f224cfe6",
   "metadata": {},
   "outputs": [
    {
     "name": "stdout",
     "output_type": "stream",
     "text": [
      "(803, 3)\n"
     ]
    },
    {
     "data": {
      "text/html": [
       "<div>\n",
       "<style scoped>\n",
       "    .dataframe tbody tr th:only-of-type {\n",
       "        vertical-align: middle;\n",
       "    }\n",
       "\n",
       "    .dataframe tbody tr th {\n",
       "        vertical-align: top;\n",
       "    }\n",
       "\n",
       "    .dataframe thead th {\n",
       "        text-align: right;\n",
       "    }\n",
       "</style>\n",
       "<table border=\"1\" class=\"dataframe\">\n",
       "  <thead>\n",
       "    <tr style=\"text-align: right;\">\n",
       "      <th></th>\n",
       "      <th>title</th>\n",
       "      <th>description</th>\n",
       "      <th>reason</th>\n",
       "    </tr>\n",
       "  </thead>\n",
       "  <tbody>\n",
       "    <tr>\n",
       "      <th>0</th>\n",
       "      <td>Cobranças indevidas</td>\n",
       "      <td>Cartão de Crédito - não debitou</td>\n",
       "      <td>Outros</td>\n",
       "    </tr>\n",
       "    <tr>\n",
       "      <th>1</th>\n",
       "      <td>Perdi acesso ao e-mail cadastrado e portal da ...</td>\n",
       "      <td>Atualização Cadastral</td>\n",
       "      <td>Outros</td>\n",
       "    </tr>\n",
       "    <tr>\n",
       "      <th>2</th>\n",
       "      <td>Estou tentando cancelar o contrato e a empresa...</td>\n",
       "      <td>Problemas com boleto</td>\n",
       "      <td>Outros</td>\n",
       "    </tr>\n",
       "    <tr>\n",
       "      <th>3</th>\n",
       "      <td>Aderi a meses, mais de 6 meses e até hoje nada...</td>\n",
       "      <td>NaN</td>\n",
       "      <td>Prazo de conexão</td>\n",
       "    </tr>\n",
       "    <tr>\n",
       "      <th>4</th>\n",
       "      <td>Minha fatura não chega</td>\n",
       "      <td>Atendimento</td>\n",
       "      <td>Atendimento</td>\n",
       "    </tr>\n",
       "  </tbody>\n",
       "</table>\n",
       "</div>"
      ],
      "text/plain": [
       "                                               title  \\\n",
       "0                                Cobranças indevidas   \n",
       "1  Perdi acesso ao e-mail cadastrado e portal da ...   \n",
       "2  Estou tentando cancelar o contrato e a empresa...   \n",
       "3  Aderi a meses, mais de 6 meses e até hoje nada...   \n",
       "4                             Minha fatura não chega   \n",
       "\n",
       "                       description            reason  \n",
       "0  Cartão de Crédito - não debitou            Outros  \n",
       "1            Atualização Cadastral            Outros  \n",
       "2             Problemas com boleto            Outros  \n",
       "3                              NaN  Prazo de conexão  \n",
       "4                      Atendimento       Atendimento  "
      ]
     },
     "execution_count": 43,
     "metadata": {},
     "output_type": "execute_result"
    }
   ],
   "source": [
    "print(df.shape)\n",
    "df.head()"
   ]
  },
  {
   "cell_type": "code",
   "execution_count": 44,
   "id": "a77de7a4",
   "metadata": {},
   "outputs": [
    {
     "name": "stdout",
     "output_type": "stream",
     "text": [
      "<class 'pandas.core.frame.DataFrame'>\n",
      "RangeIndex: 803 entries, 0 to 802\n",
      "Data columns (total 3 columns):\n",
      " #   Column       Non-Null Count  Dtype \n",
      "---  ------       --------------  ----- \n",
      " 0   title        786 non-null    object\n",
      " 1   description  519 non-null    object\n",
      " 2   reason       768 non-null    object\n",
      "dtypes: object(3)\n",
      "memory usage: 18.9+ KB\n"
     ]
    }
   ],
   "source": [
    "df.info()"
   ]
  },
  {
   "cell_type": "markdown",
   "id": "1b805c04",
   "metadata": {},
   "source": [
    "### Verificando dados nulos\n",
    "\n",
    "- Dados da variávle **reason** devem ser removidos\n",
    "- Dados sem **title** ou **description** podem ser aproveitados\n",
    "- Dados sem **title** e **description** devem ser descartados"
   ]
  },
  {
   "cell_type": "code",
   "execution_count": 45,
   "id": "d61bf2f8",
   "metadata": {},
   "outputs": [],
   "source": [
    "# Removendo dados sem reason\n",
    "df = df[df['reason'].notna()]"
   ]
  },
  {
   "cell_type": "code",
   "execution_count": 46,
   "id": "702963c4",
   "metadata": {},
   "outputs": [],
   "source": [
    "# Removendo dados sem reason\n",
    "df.dropna(subset=['title','description'], how='all', inplace=True)"
   ]
  },
  {
   "cell_type": "code",
   "execution_count": 47,
   "id": "b208337d",
   "metadata": {},
   "outputs": [
    {
     "data": {
      "text/plain": [
       "title            6\n",
       "description    249\n",
       "reason           0\n",
       "dtype: int64"
      ]
     },
     "execution_count": 47,
     "metadata": {},
     "output_type": "execute_result"
    }
   ],
   "source": [
    "df.isna().sum()"
   ]
  },
  {
   "cell_type": "code",
   "execution_count": 48,
   "id": "3d44fa84",
   "metadata": {},
   "outputs": [
    {
     "data": {
      "text/plain": [
       "(767, 3)"
      ]
     },
     "execution_count": 48,
     "metadata": {},
     "output_type": "execute_result"
    }
   ],
   "source": [
    "df.shape"
   ]
  },
  {
   "cell_type": "markdown",
   "id": "29d515cc",
   "metadata": {},
   "source": [
    "### Formatando coluna reason\n",
    "\n",
    "A coluna reason tem uma serie de problemas de cadastros, como categorias inexistentes. A classes possíveis de classificação são:\n",
    "- Economia\n",
    "- Consumo - Baixa injeção\n",
    "- Multa/Cancelamento\n",
    "- Atendimento (Dúvida)\n",
    "- Inconsistência na venda\n",
    "- Portal/App\n",
    "- Points\n",
    "- Cobrança indevida\n",
    "- Prazo conexão\n",
    "- Outros\n",
    "\n",
    "Nos scripstis a seguir, pretendo formatar e remover inconsistências, mantendo apenas 10 classes."
   ]
  },
  {
   "cell_type": "code",
   "execution_count": 49,
   "id": "9dbb82b9",
   "metadata": {},
   "outputs": [],
   "source": [
    "df['reason'] = df['reason'].str.lower()\n",
    "df['reason'] = df['reason'].str.strip()"
   ]
  },
  {
   "cell_type": "code",
   "execution_count": 50,
   "id": "3b5569fc",
   "metadata": {},
   "outputs": [
    {
     "data": {
      "text/plain": [
       "array(['outros', 'prazo de conexão', 'atendimento', 'economia',\n",
       "       'multa/cancelamento', 'resgate', 'portal/app',\n",
       "       'consumo - baixa injeção', 'indicação', '-', 'cobrança indevida',\n",
       "       'inconsitência na venda', 'pontos bloqueados', 'conexão', 'troca',\n",
       "       'prazo conexão', 'points', 'prazo/conexão', 'cancelamento',\n",
       "       'acesso/points', 'saldo contigencial'], dtype=object)"
      ]
     },
     "execution_count": 50,
     "metadata": {},
     "output_type": "execute_result"
    }
   ],
   "source": [
    "df['reason'].unique()"
   ]
  },
  {
   "cell_type": "code",
   "execution_count": 51,
   "id": "a1214e75",
   "metadata": {},
   "outputs": [],
   "source": [
    "invalid_reasons = [\n",
    "    '-',\n",
    "    ''\n",
    "]\n",
    "\n",
    "for invalid in invalid_reasons:\n",
    "    df = df[df['reason'] != invalid]"
   ]
  },
  {
   "cell_type": "code",
   "execution_count": 52,
   "id": "72ec9cdd",
   "metadata": {},
   "outputs": [
    {
     "data": {
      "text/plain": [
       "array(['outros', 'prazo de conexão', 'atendimento', 'economia',\n",
       "       'multa/cancelamento', 'resgate', 'portal/app',\n",
       "       'consumo - baixa injeção', 'indicação', 'cobrança indevida',\n",
       "       'inconsitência na venda', 'pontos bloqueados', 'conexão', 'troca',\n",
       "       'prazo conexão', 'points', 'prazo/conexão', 'cancelamento',\n",
       "       'acesso/points', 'saldo contigencial'], dtype=object)"
      ]
     },
     "execution_count": 52,
     "metadata": {},
     "output_type": "execute_result"
    }
   ],
   "source": [
    "df['reason'].unique()"
   ]
  },
  {
   "cell_type": "code",
   "execution_count": 53,
   "id": "66b404d4",
   "metadata": {},
   "outputs": [],
   "source": [
    "cat_prazo_conexao = 'prazo de conexão'\n",
    "cat_duvida = 'atendimento/dúvida'\n",
    "cat_multa_cancel = 'multa/cancelamento'\n",
    "cat_inc_vend = 'inconsistencia na venda'\n",
    "cat_outros = 'outros'\n",
    "cat_points = 'points'\n",
    "cat_baixa = 'baixa injeção de energia'\n",
    "cat_portal = 'acesso ao portal/app'\n",
    "cat_cob_ind = 'cobranca indevida'\n",
    "\n",
    "raplace_values = [('prazo/conexão', cat_prazo_conexao),\n",
    "                  ('prazo de conexão', cat_prazo_conexao),\n",
    "                  ('prazo conexão', cat_prazo_conexao),\n",
    "                  ('conexão', cat_prazo_conexao),\n",
    "                  ('atendimento', cat_duvida),\n",
    "                  ('saldo contigencial', cat_multa_cancel),\n",
    "                  ('cancelamento', cat_multa_cancel),\n",
    "                  ('acesso/points', cat_points),\n",
    "                  ('pontos bloqueados', cat_points),\n",
    "                  ('troca', cat_points),\n",
    "                  ('indicação', cat_points),\n",
    "                  ('resgate', cat_points),\n",
    "                  ('portal/app', cat_portal),\n",
    "                  ('consumo - baixa injeção', cat_baixa),\n",
    "                  ('inconsitência na venda', cat_inc_vend)\n",
    "                 ]\n",
    "\n",
    "for tup in raplace_values:\n",
    "    df['reason'] = df['reason'].replace(tup[0], tup[1])"
   ]
  },
  {
   "cell_type": "code",
   "execution_count": 54,
   "id": "8f230c42",
   "metadata": {},
   "outputs": [
    {
     "name": "stdout",
     "output_type": "stream",
     "text": [
      "10 clasificações encontradas:\n",
      "\n",
      "*  outros\n",
      "*  prazo de conexão\n",
      "*  atendimento/dúvida\n",
      "*  economia\n",
      "*  multa/cancelamento\n",
      "*  points\n",
      "*  acesso ao portal/app\n",
      "*  baixa injeção de energia\n",
      "*  cobrança indevida\n",
      "*  inconsistencia na venda\n"
     ]
    }
   ],
   "source": [
    "print(f\"{len(df['reason'].unique())} clasificações encontradas:\\n\")\n",
    "for reason in df['reason'].unique():\n",
    "    print('* ', reason)"
   ]
  },
  {
   "cell_type": "markdown",
   "id": "90bb3938",
   "metadata": {},
   "source": [
    "### Criando texto de imput\n",
    "Nessa etapa estou unindo a variável título à variável descripition, dessa forma vou obter textos de descrição ou de título caso um destes seja nulo"
   ]
  },
  {
   "cell_type": "code",
   "execution_count": 55,
   "id": "a0a78fff",
   "metadata": {},
   "outputs": [],
   "source": [
    "df[\"text\"] = df.apply(concat_filter, axis=1)"
   ]
  },
  {
   "cell_type": "code",
   "execution_count": 56,
   "id": "b8e184d7",
   "metadata": {},
   "outputs": [
    {
     "data": {
      "text/html": [
       "<div>\n",
       "<style scoped>\n",
       "    .dataframe tbody tr th:only-of-type {\n",
       "        vertical-align: middle;\n",
       "    }\n",
       "\n",
       "    .dataframe tbody tr th {\n",
       "        vertical-align: top;\n",
       "    }\n",
       "\n",
       "    .dataframe thead th {\n",
       "        text-align: right;\n",
       "    }\n",
       "</style>\n",
       "<table border=\"1\" class=\"dataframe\">\n",
       "  <thead>\n",
       "    <tr style=\"text-align: right;\">\n",
       "      <th></th>\n",
       "      <th>title</th>\n",
       "      <th>description</th>\n",
       "      <th>reason</th>\n",
       "      <th>text</th>\n",
       "    </tr>\n",
       "  </thead>\n",
       "  <tbody>\n",
       "    <tr>\n",
       "      <th>0</th>\n",
       "      <td>Cobranças indevidas</td>\n",
       "      <td>Cartão de Crédito - não debitou</td>\n",
       "      <td>outros</td>\n",
       "      <td>Cobranças indevidas. Cartão de Crédito - não ...</td>\n",
       "    </tr>\n",
       "    <tr>\n",
       "      <th>1</th>\n",
       "      <td>Perdi acesso ao e-mail cadastrado e portal da ...</td>\n",
       "      <td>Atualização Cadastral</td>\n",
       "      <td>outros</td>\n",
       "      <td>Perdi acesso ao e-mail cadastrado e portal da ...</td>\n",
       "    </tr>\n",
       "    <tr>\n",
       "      <th>2</th>\n",
       "      <td>Estou tentando cancelar o contrato e a empresa...</td>\n",
       "      <td>Problemas com boleto</td>\n",
       "      <td>outros</td>\n",
       "      <td>Estou tentando cancelar o contrato e a empresa...</td>\n",
       "    </tr>\n",
       "    <tr>\n",
       "      <th>3</th>\n",
       "      <td>Aderi a meses, mais de 6 meses e até hoje nada...</td>\n",
       "      <td>NaN</td>\n",
       "      <td>prazo de conexão</td>\n",
       "      <td>Aderi a meses, mais de 6 meses e até hoje nada...</td>\n",
       "    </tr>\n",
       "    <tr>\n",
       "      <th>4</th>\n",
       "      <td>Minha fatura não chega</td>\n",
       "      <td>Atendimento</td>\n",
       "      <td>atendimento/dúvida</td>\n",
       "      <td>Minha fatura não chega. Atendimento</td>\n",
       "    </tr>\n",
       "  </tbody>\n",
       "</table>\n",
       "</div>"
      ],
      "text/plain": [
       "                                               title  \\\n",
       "0                                Cobranças indevidas   \n",
       "1  Perdi acesso ao e-mail cadastrado e portal da ...   \n",
       "2  Estou tentando cancelar o contrato e a empresa...   \n",
       "3  Aderi a meses, mais de 6 meses e até hoje nada...   \n",
       "4                             Minha fatura não chega   \n",
       "\n",
       "                       description              reason  \\\n",
       "0  Cartão de Crédito - não debitou              outros   \n",
       "1            Atualização Cadastral              outros   \n",
       "2             Problemas com boleto              outros   \n",
       "3                              NaN    prazo de conexão   \n",
       "4                      Atendimento  atendimento/dúvida   \n",
       "\n",
       "                                                text  \n",
       "0   Cobranças indevidas. Cartão de Crédito - não ...  \n",
       "1  Perdi acesso ao e-mail cadastrado e portal da ...  \n",
       "2  Estou tentando cancelar o contrato e a empresa...  \n",
       "3  Aderi a meses, mais de 6 meses e até hoje nada...  \n",
       "4                Minha fatura não chega. Atendimento  "
      ]
     },
     "execution_count": 56,
     "metadata": {},
     "output_type": "execute_result"
    }
   ],
   "source": [
    "df.head()"
   ]
  },
  {
   "cell_type": "code",
   "execution_count": 57,
   "id": "40c5d334",
   "metadata": {},
   "outputs": [],
   "source": [
    "input_df = df[[\"text\", 'reason']]"
   ]
  },
  {
   "cell_type": "markdown",
   "id": "11f1cd83",
   "metadata": {},
   "source": [
    "### Quantidade de dados insuficiente 😟\n",
    "Depois de fazer toda a limpeza e tratamento, sobrou apenas 761 registros. Esses dados não são suficientes para chegar na acurácia necessária para ter um bom modelo.\n",
    "Será, necessário gerar dados de forma randômica. Irei usar a estratégia a seguir:\n",
    "\n",
    "#### Texto Aleatório Baseado em Dados Existentes:"
   ]
  },
  {
   "cell_type": "code",
   "execution_count": 58,
   "id": "41079728",
   "metadata": {},
   "outputs": [
    {
     "data": {
      "text/plain": [
       "(761, 2)"
      ]
     },
     "execution_count": 58,
     "metadata": {},
     "output_type": "execute_result"
    }
   ],
   "source": [
    "input_df.shape"
   ]
  },
  {
   "cell_type": "code",
   "execution_count": 59,
   "id": "49e5e0e3",
   "metadata": {},
   "outputs": [],
   "source": [
    "increment_reasons = df[df.groupby(['reason'])['text'].transform('count') < 300]['reason'].unique().tolist() #input_df.groupby('reason').count()"
   ]
  },
  {
   "cell_type": "code",
   "execution_count": 60,
   "id": "43569120",
   "metadata": {},
   "outputs": [],
   "source": [
    "#Adicionar dados randomicos\n",
    "import random\n",
    "\n",
    "for reason in increment_reasons:\n",
    "    dataset = input_df[input_df['reason'] == reason]['text'].tolist()\n",
    "    for i in range(0, 200):\n",
    "        random_text = generate_random_text(dataset, num_sentences=random.randint(2, 3))\n",
    "        input_df=input_df.append(pd.Series([random_text, reason], index=input_df.columns), ignore_index=True)\n"
   ]
  },
  {
   "cell_type": "code",
   "execution_count": 61,
   "id": "219465d7",
   "metadata": {},
   "outputs": [
    {
     "name": "stdout",
     "output_type": "stream",
     "text": [
      "Antes do script de adição de dados\n",
      "\n",
      "reason\n",
      "acesso ao portal/app         33\n",
      "atendimento/dúvida           30\n",
      "baixa injeção de energia     15\n",
      "cobrança indevida            29\n",
      "economia                     50\n",
      "inconsistencia na venda       5\n",
      "multa/cancelamento          374\n",
      "outros                       79\n",
      "points                       77\n",
      "prazo de conexão             69\n",
      "Name: text, dtype: int64\n",
      "\n",
      "Depois do script de adição de dados\n",
      "\n",
      "                          text\n",
      "reason                        \n",
      "acesso ao portal/app       233\n",
      "atendimento/dúvida         230\n",
      "baixa injeção de energia   215\n",
      "cobrança indevida          229\n",
      "economia                   250\n",
      "inconsistencia na venda    205\n",
      "multa/cancelamento         374\n",
      "outros                     279\n",
      "points                     277\n",
      "prazo de conexão           269\n"
     ]
    }
   ],
   "source": [
    "print('Antes do script de adição de dados\\n')\n",
    "print(df.groupby('reason')['text'].count())\n",
    "print('')\n",
    "print('Depois do script de adição de dados\\n')\n",
    "print(input_df.groupby('reason').count())"
   ]
  },
  {
   "cell_type": "code",
   "execution_count": 62,
   "id": "69eac8f9",
   "metadata": {},
   "outputs": [
    {
     "data": {
      "text/plain": [
       "(2561, 2)"
      ]
     },
     "execution_count": 62,
     "metadata": {},
     "output_type": "execute_result"
    }
   ],
   "source": [
    "input_df.shape"
   ]
  },
  {
   "cell_type": "markdown",
   "id": "f87dbc7c",
   "metadata": {},
   "source": [
    "### Formatando textos\n",
    "Para que o algoritimo seja mais acertivo, é necessário aplicar algumas tecnicas de formação de texto. A função formating faz as seguintes tratativas:\n",
    "\n",
    "- Substituição de textos como: E-mail, telefones, números, espaços em branco a mais, acentuação, pontuação e letrtas maúsculas.\n",
    "- Remoção de stop words: Stop words são palavras comuns, como artigos e preposições, que são frequentemente removidas durante o processamento de texto por não contribuírem significativamente para a compreensão do seu significado.\n",
    "-  Técnica de stemming: Redução de palavras à sua forma raiz ou radical."
   ]
  },
  {
   "cell_type": "code",
   "execution_count": 63,
   "id": "987a68ff",
   "metadata": {},
   "outputs": [],
   "source": [
    "processed = formating(input_df['text'])"
   ]
  },
  {
   "cell_type": "code",
   "execution_count": 64,
   "id": "15a1e204",
   "metadata": {},
   "outputs": [],
   "source": [
    "texts = processed.tolist()\n",
    "labels = input_df['reason'].tolist()"
   ]
  },
  {
   "cell_type": "code",
   "execution_count": 65,
   "id": "ad48f73c",
   "metadata": {},
   "outputs": [
    {
     "name": "stdout",
     "output_type": "stream",
     "text": [
      "2561\n",
      "2561\n"
     ]
    }
   ],
   "source": [
    "print(len(texts))\n",
    "print(len(labels))"
   ]
  },
  {
   "cell_type": "markdown",
   "id": "b88a7e75",
   "metadata": {},
   "source": [
    "### Preparando textos para usar no algoritmo\n",
    "\n",
    "Convertendo textos em representação numérica, utilizando a abordagem de ponderação TF-IDF (Term Frequency-Inverse Document Frequency)."
   ]
  },
  {
   "cell_type": "code",
   "execution_count": 66,
   "id": "14c9efe9",
   "metadata": {},
   "outputs": [],
   "source": [
    "vectorizer = TfidfVectorizer(stop_words=stopwords.words('portuguese'), analyzer='word',\n",
    "            ngram_range=(1, 1), lowercase=True, use_idf=True)"
   ]
  },
  {
   "cell_type": "markdown",
   "id": "faa2df3d",
   "metadata": {},
   "source": [
    "### Treinando o algorítmo\n",
    "Estou separando dados em teste e treino para poder medir a acurácia do modelo"
   ]
  },
  {
   "cell_type": "code",
   "execution_count": 67,
   "id": "182da743",
   "metadata": {},
   "outputs": [
    {
     "data": {
      "text/html": [
       "<style>#sk-container-id-2 {color: black;background-color: white;}#sk-container-id-2 pre{padding: 0;}#sk-container-id-2 div.sk-toggleable {background-color: white;}#sk-container-id-2 label.sk-toggleable__label {cursor: pointer;display: block;width: 100%;margin-bottom: 0;padding: 0.3em;box-sizing: border-box;text-align: center;}#sk-container-id-2 label.sk-toggleable__label-arrow:before {content: \"▸\";float: left;margin-right: 0.25em;color: #696969;}#sk-container-id-2 label.sk-toggleable__label-arrow:hover:before {color: black;}#sk-container-id-2 div.sk-estimator:hover label.sk-toggleable__label-arrow:before {color: black;}#sk-container-id-2 div.sk-toggleable__content {max-height: 0;max-width: 0;overflow: hidden;text-align: left;background-color: #f0f8ff;}#sk-container-id-2 div.sk-toggleable__content pre {margin: 0.2em;color: black;border-radius: 0.25em;background-color: #f0f8ff;}#sk-container-id-2 input.sk-toggleable__control:checked~div.sk-toggleable__content {max-height: 200px;max-width: 100%;overflow: auto;}#sk-container-id-2 input.sk-toggleable__control:checked~label.sk-toggleable__label-arrow:before {content: \"▾\";}#sk-container-id-2 div.sk-estimator input.sk-toggleable__control:checked~label.sk-toggleable__label {background-color: #d4ebff;}#sk-container-id-2 div.sk-label input.sk-toggleable__control:checked~label.sk-toggleable__label {background-color: #d4ebff;}#sk-container-id-2 input.sk-hidden--visually {border: 0;clip: rect(1px 1px 1px 1px);clip: rect(1px, 1px, 1px, 1px);height: 1px;margin: -1px;overflow: hidden;padding: 0;position: absolute;width: 1px;}#sk-container-id-2 div.sk-estimator {font-family: monospace;background-color: #f0f8ff;border: 1px dotted black;border-radius: 0.25em;box-sizing: border-box;margin-bottom: 0.5em;}#sk-container-id-2 div.sk-estimator:hover {background-color: #d4ebff;}#sk-container-id-2 div.sk-parallel-item::after {content: \"\";width: 100%;border-bottom: 1px solid gray;flex-grow: 1;}#sk-container-id-2 div.sk-label:hover label.sk-toggleable__label {background-color: #d4ebff;}#sk-container-id-2 div.sk-serial::before {content: \"\";position: absolute;border-left: 1px solid gray;box-sizing: border-box;top: 0;bottom: 0;left: 50%;z-index: 0;}#sk-container-id-2 div.sk-serial {display: flex;flex-direction: column;align-items: center;background-color: white;padding-right: 0.2em;padding-left: 0.2em;position: relative;}#sk-container-id-2 div.sk-item {position: relative;z-index: 1;}#sk-container-id-2 div.sk-parallel {display: flex;align-items: stretch;justify-content: center;background-color: white;position: relative;}#sk-container-id-2 div.sk-item::before, #sk-container-id-2 div.sk-parallel-item::before {content: \"\";position: absolute;border-left: 1px solid gray;box-sizing: border-box;top: 0;bottom: 0;left: 50%;z-index: -1;}#sk-container-id-2 div.sk-parallel-item {display: flex;flex-direction: column;z-index: 1;position: relative;background-color: white;}#sk-container-id-2 div.sk-parallel-item:first-child::after {align-self: flex-end;width: 50%;}#sk-container-id-2 div.sk-parallel-item:last-child::after {align-self: flex-start;width: 50%;}#sk-container-id-2 div.sk-parallel-item:only-child::after {width: 0;}#sk-container-id-2 div.sk-dashed-wrapped {border: 1px dashed gray;margin: 0 0.4em 0.5em 0.4em;box-sizing: border-box;padding-bottom: 0.4em;background-color: white;}#sk-container-id-2 div.sk-label label {font-family: monospace;font-weight: bold;display: inline-block;line-height: 1.2em;}#sk-container-id-2 div.sk-label-container {text-align: center;}#sk-container-id-2 div.sk-container {/* jupyter's `normalize.less` sets `[hidden] { display: none; }` but bootstrap.min.css set `[hidden] { display: none !important; }` so we also need the `!important` here to be able to override the default hidden behavior on the sphinx rendered scikit-learn.org. See: https://github.com/scikit-learn/scikit-learn/issues/21755 */display: inline-block !important;position: relative;}#sk-container-id-2 div.sk-text-repr-fallback {display: none;}</style><div id=\"sk-container-id-2\" class=\"sk-top-container\"><div class=\"sk-text-repr-fallback\"><pre>Pipeline(steps=[(&#x27;tfidf&#x27;,\n",
       "                 TfidfVectorizer(stop_words=[&#x27;a&#x27;, &#x27;à&#x27;, &#x27;ao&#x27;, &#x27;aos&#x27;, &#x27;aquela&#x27;,\n",
       "                                             &#x27;aquelas&#x27;, &#x27;aquele&#x27;, &#x27;aqueles&#x27;,\n",
       "                                             &#x27;aquilo&#x27;, &#x27;as&#x27;, &#x27;às&#x27;, &#x27;até&#x27;, &#x27;com&#x27;,\n",
       "                                             &#x27;como&#x27;, &#x27;da&#x27;, &#x27;das&#x27;, &#x27;de&#x27;, &#x27;dela&#x27;,\n",
       "                                             &#x27;delas&#x27;, &#x27;dele&#x27;, &#x27;deles&#x27;, &#x27;depois&#x27;,\n",
       "                                             &#x27;do&#x27;, &#x27;dos&#x27;, &#x27;e&#x27;, &#x27;é&#x27;, &#x27;ela&#x27;,\n",
       "                                             &#x27;elas&#x27;, &#x27;ele&#x27;, &#x27;eles&#x27;, ...])),\n",
       "                (&#x27;clf&#x27;,\n",
       "                 SGDClassifier(alpha=0.001, max_iter=5, random_state=42,\n",
       "                               tol=None))])</pre><b>In a Jupyter environment, please rerun this cell to show the HTML representation or trust the notebook. <br />On GitHub, the HTML representation is unable to render, please try loading this page with nbviewer.org.</b></div><div class=\"sk-container\" hidden><div class=\"sk-item sk-dashed-wrapped\"><div class=\"sk-label-container\"><div class=\"sk-label sk-toggleable\"><input class=\"sk-toggleable__control sk-hidden--visually\" id=\"sk-estimator-id-4\" type=\"checkbox\" ><label for=\"sk-estimator-id-4\" class=\"sk-toggleable__label sk-toggleable__label-arrow\">Pipeline</label><div class=\"sk-toggleable__content\"><pre>Pipeline(steps=[(&#x27;tfidf&#x27;,\n",
       "                 TfidfVectorizer(stop_words=[&#x27;a&#x27;, &#x27;à&#x27;, &#x27;ao&#x27;, &#x27;aos&#x27;, &#x27;aquela&#x27;,\n",
       "                                             &#x27;aquelas&#x27;, &#x27;aquele&#x27;, &#x27;aqueles&#x27;,\n",
       "                                             &#x27;aquilo&#x27;, &#x27;as&#x27;, &#x27;às&#x27;, &#x27;até&#x27;, &#x27;com&#x27;,\n",
       "                                             &#x27;como&#x27;, &#x27;da&#x27;, &#x27;das&#x27;, &#x27;de&#x27;, &#x27;dela&#x27;,\n",
       "                                             &#x27;delas&#x27;, &#x27;dele&#x27;, &#x27;deles&#x27;, &#x27;depois&#x27;,\n",
       "                                             &#x27;do&#x27;, &#x27;dos&#x27;, &#x27;e&#x27;, &#x27;é&#x27;, &#x27;ela&#x27;,\n",
       "                                             &#x27;elas&#x27;, &#x27;ele&#x27;, &#x27;eles&#x27;, ...])),\n",
       "                (&#x27;clf&#x27;,\n",
       "                 SGDClassifier(alpha=0.001, max_iter=5, random_state=42,\n",
       "                               tol=None))])</pre></div></div></div><div class=\"sk-serial\"><div class=\"sk-item\"><div class=\"sk-estimator sk-toggleable\"><input class=\"sk-toggleable__control sk-hidden--visually\" id=\"sk-estimator-id-5\" type=\"checkbox\" ><label for=\"sk-estimator-id-5\" class=\"sk-toggleable__label sk-toggleable__label-arrow\">TfidfVectorizer</label><div class=\"sk-toggleable__content\"><pre>TfidfVectorizer(stop_words=[&#x27;a&#x27;, &#x27;à&#x27;, &#x27;ao&#x27;, &#x27;aos&#x27;, &#x27;aquela&#x27;, &#x27;aquelas&#x27;,\n",
       "                            &#x27;aquele&#x27;, &#x27;aqueles&#x27;, &#x27;aquilo&#x27;, &#x27;as&#x27;, &#x27;às&#x27;, &#x27;até&#x27;,\n",
       "                            &#x27;com&#x27;, &#x27;como&#x27;, &#x27;da&#x27;, &#x27;das&#x27;, &#x27;de&#x27;, &#x27;dela&#x27;, &#x27;delas&#x27;,\n",
       "                            &#x27;dele&#x27;, &#x27;deles&#x27;, &#x27;depois&#x27;, &#x27;do&#x27;, &#x27;dos&#x27;, &#x27;e&#x27;, &#x27;é&#x27;,\n",
       "                            &#x27;ela&#x27;, &#x27;elas&#x27;, &#x27;ele&#x27;, &#x27;eles&#x27;, ...])</pre></div></div></div><div class=\"sk-item\"><div class=\"sk-estimator sk-toggleable\"><input class=\"sk-toggleable__control sk-hidden--visually\" id=\"sk-estimator-id-6\" type=\"checkbox\" ><label for=\"sk-estimator-id-6\" class=\"sk-toggleable__label sk-toggleable__label-arrow\">SGDClassifier</label><div class=\"sk-toggleable__content\"><pre>SGDClassifier(alpha=0.001, max_iter=5, random_state=42, tol=None)</pre></div></div></div></div></div></div></div>"
      ],
      "text/plain": [
       "Pipeline(steps=[('tfidf',\n",
       "                 TfidfVectorizer(stop_words=['a', 'à', 'ao', 'aos', 'aquela',\n",
       "                                             'aquelas', 'aquele', 'aqueles',\n",
       "                                             'aquilo', 'as', 'às', 'até', 'com',\n",
       "                                             'como', 'da', 'das', 'de', 'dela',\n",
       "                                             'delas', 'dele', 'deles', 'depois',\n",
       "                                             'do', 'dos', 'e', 'é', 'ela',\n",
       "                                             'elas', 'ele', 'eles', ...])),\n",
       "                ('clf',\n",
       "                 SGDClassifier(alpha=0.001, max_iter=5, random_state=42,\n",
       "                               tol=None))])"
      ]
     },
     "execution_count": 67,
     "metadata": {},
     "output_type": "execute_result"
    }
   ],
   "source": [
    "X_train, X_test, y_train, y_test = train_test_split(texts, labels, test_size=0.25, random_state=42)\n",
    "\n",
    "text_clf = Pipeline([\n",
    "    ('tfidf', vectorizer),\n",
    "    ('clf', SGDClassifier(loss='hinge', penalty='l2', alpha=1e-3, random_state=42, max_iter=5, tol=None))\n",
    "])\n",
    "\n",
    "text_clf.fit(X_train, y_train)"
   ]
  },
  {
   "cell_type": "markdown",
   "id": "c52a7e3b",
   "metadata": {},
   "source": [
    "### Medindo a acurácia\n"
   ]
  },
  {
   "cell_type": "code",
   "execution_count": 68,
   "id": "d84b5c53",
   "metadata": {},
   "outputs": [
    {
     "name": "stdout",
     "output_type": "stream",
     "text": [
      "Acurácia: 0.9703588143525741\n",
      "\n",
      "                          precision    recall  f1-score   support\n",
      "\n",
      "                  outros       0.98      1.00      0.99        54\n",
      "        prazo de conexão       0.97      0.95      0.96        62\n",
      "      atendimento/dúvida       1.00      1.00      1.00        56\n",
      "                economia       0.89      1.00      0.94        67\n",
      "      multa/cancelamento       0.98      1.00      0.99        59\n",
      "                  points       1.00      1.00      1.00        48\n",
      "    acesso ao portal/app       0.97      0.87      0.91        97\n",
      "baixa injeção de energia       0.98      0.98      0.98        59\n",
      "       cobrança indevida       1.00      1.00      1.00        70\n",
      " inconsistencia na venda       0.96      0.97      0.96        69\n",
      "\n",
      "                accuracy                           0.97       641\n",
      "               macro avg       0.97      0.98      0.97       641\n",
      "            weighted avg       0.97      0.97      0.97       641\n",
      "\n",
      "['acesso ao portal/app' 'atendimento/dúvida' 'baixa injeção de energia'\n",
      " 'cobrança indevida' 'economia' 'inconsistencia na venda'\n",
      " 'multa/cancelamento' 'outros' 'points' 'prazo de conexão']\n"
     ]
    }
   ],
   "source": [
    "predictions = text_clf.predict(X_test)\n",
    "accuracy = accuracy_score(y_test, predictions)\n",
    "print(f'Acurácia: {accuracy}\\n')\n",
    "print(metrics.classification_report(y_test, predictions,target_names=input_df['reason'].unique().tolist()))\n",
    "print(text_clf.classes_)"
   ]
  },
  {
   "cell_type": "markdown",
   "id": "27087f2d",
   "metadata": {},
   "source": [
    "### Representação em matriz de confusão\n"
   ]
  },
  {
   "cell_type": "code",
   "execution_count": 69,
   "id": "f2b67e74",
   "metadata": {},
   "outputs": [
    {
     "data": {
      "image/png": "[encoded data removed]",
      "text/plain": [
       "<Figure size 480x480 with 2 Axes>"
      ]
     },
     "metadata": {},
     "output_type": "display_data"
    }
   ],
   "source": [
    "confusion_matrix = confusion_matrix(y_test, predictions)\n",
    "plt.matshow(confusion_matrix)\n",
    "plt.title(\"Matriz de confusão\")\n",
    "plt.colorbar()\n",
    "plt.ylabel(\"Classificações corretas\")\n",
    "plt.xlabel(\"Classificações obtidas\")\n",
    "plt.show()"
   ]
  },
  {
   "cell_type": "markdown",
   "id": "81624eee",
   "metadata": {},
   "source": [
    "### Testando novos inputs aleatórios"
   ]
  },
  {
   "cell_type": "code",
   "execution_count": 70,
   "id": "0491fdd3",
   "metadata": {},
   "outputs": [
    {
     "name": "stdout",
     "output_type": "stream",
     "text": [
      "poss acess sit  =>  acesso ao portal/app\n",
      "duvid sobr program pont  =>  points\n",
      "faz cancel contrat  =>  multa/cancelamento\n",
      "cobranc indev  =>  cobrança indevida\n",
      "pont nao esta send registr  =>  points\n",
      "recorrenc cobranc cobranc indev  =>  cobrança indevida\n",
      "cancel assinat esta cobr  =>  cobrança indevida\n",
      "fatur nao disponibil aplic  =>  cobrança indevida\n",
      "numbr dia energ injet  =>  prazo de conexão\n",
      "nao injeca energ  =>  baixa injeção de energia\n"
     ]
    }
   ],
   "source": [
    "docs_new = {'docs': [\n",
    "    'Como posso acessar o site?',\n",
    "    'Estou com dúvidas sobre o programa de pontos',\n",
    "    'Fazer cancelamento do contrato',\n",
    "    'Cobrança indevida',\n",
    "    'Pontos não estão sendo registrados',\n",
    "    'Recorrência de cobrança. Cobrança Indevida',\n",
    "    'CANCELEI ASSINATURA E ESTÃO ME COBRANDO',\n",
    "    'FATURA NÃO DISPONIBILIZADA NO APLICATIVO',\n",
    "    '120 dias sem energia injetada',\n",
    "    'Não houve injeção de energia'\n",
    "] } \n",
    "\n",
    "docs = pd.DataFrame(data=docs_new)\n",
    "\n",
    "processed = formating(docs['docs'])\n",
    "\n",
    "predicted = text_clf.predict(processed.tolist())\n",
    "\n",
    "for doc, category in zip(processed.tolist(), predicted):\n",
    "    print(doc, ' => ', category)"
   ]
  },
  {
   "cell_type": "markdown",
   "id": "6045f33d",
   "metadata": {},
   "source": [
    "### Compactando modelo"
   ]
  },
  {
   "cell_type": "code",
   "execution_count": 71,
   "id": "7dcbe0da",
   "metadata": {},
   "outputs": [],
   "source": [
    "import pickle\n",
    "filename = 'valentini01.pkl'\n",
    "pickle.dump(text_clf, open(filename, 'wb'))"
   ]
  },
  {
   "cell_type": "code",
   "execution_count": 72,
   "id": "67df4fed",
   "metadata": {},
   "outputs": [
    {
     "name": "stdout",
     "output_type": "stream",
     "text": [
      " 20newsgroups.ipynb\r\n",
      "'Chat GPT.ipynb'\r\n",
      "'Coleta de dados Reclame Aqui.ipynb'\r\n",
      "'Modelo classificador Valentini.ipynb'\r\n",
      "'NLP for Text Classification (Jupyter Notebook).ipynb'\r\n",
      "'NLP - Portuguese.ipynb'\r\n",
      "'Novo Modelo classificador Valentini.ipynb'\r\n",
      " Processamento.ipynb\r\n",
      " template\r\n",
      " Tests.ipynb\r\n",
      " valentini01.pkl\r\n"
     ]
    }
   ],
   "source": [
    "!ls"
   ]
  },
  {
   "cell_type": "code",
   "execution_count": null,
   "id": "f1d06756",
   "metadata": {},
   "outputs": [],
   "source": []
  }
 ],
 "metadata": {
  "kernelspec": {
   "display_name": "Python 3 (ipykernel)",
   "language": "python",
   "name": "python3"
  },
  "language_info": {
   "codemirror_mode": {
    "name": "ipython",
    "version": 3
   },
   "file_extension": ".py",
   "mimetype": "text/x-python",
   "name": "python",
   "nbconvert_exporter": "python",
   "pygments_lexer": "ipython3",
   "version": "3.11.6"
  }
 },
 "nbformat": 4,
 "nbformat_minor": 5
}
