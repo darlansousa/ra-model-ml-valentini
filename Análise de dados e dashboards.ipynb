{
 "cells": [
  {
   "cell_type": "code",
   "execution_count": 1,
   "id": "1b3abf0f",
   "metadata": {},
   "outputs": [
    {
     "name": "stderr",
     "output_type": "stream",
     "text": [
      "/tmp/ipykernel_117231/3715833163.py:4: UserWarning: \n",
      "The dash_core_components package is deprecated. Please replace\n",
      "`import dash_core_components as dcc` with `from dash import dcc`\n",
      "  import dash_core_components as dcc\n",
      "/tmp/ipykernel_117231/3715833163.py:5: UserWarning: \n",
      "The dash_html_components package is deprecated. Please replace\n",
      "`import dash_html_components as html` with `from dash import html`\n",
      "  import dash_html_components as html\n"
     ]
    },
    {
     "name": "stdout",
     "output_type": "stream",
     "text": [
      "Python: 3.11.6 (main, Oct  3 2023, 00:00:00) [GCC 13.2.1 20230728 (Red Hat 13.2.1-1)]\n",
      "Dash: 2.14.2\n",
      "Plotly: 5.11.0\n",
      "Pandas: 1.5.2\n"
     ]
    }
   ],
   "source": [
    "import sys\n",
    "import dash\n",
    "import plotly\n",
    "import dash_core_components as dcc\n",
    "import dash_html_components as html\n",
    "import plotly.express as px\n",
    "import pandas as pd\n",
    "from datetime import datetime\n",
    "import locale\n",
    "\n",
    "import warnings\n",
    "warnings.simplefilter(\"ignore\")\n",
    "\n",
    "print('Python: {}'.format(sys.version))\n",
    "print('Dash: {}'.format(dash.__version__))\n",
    "print('Plotly: {}'.format(plotly.__version__))\n",
    "print('Pandas: {}'.format(pd.__version__))"
   ]
  },
  {
   "cell_type": "markdown",
   "id": "54bdcaae",
   "metadata": {},
   "source": [
    "### Load data"
   ]
  },
  {
   "cell_type": "code",
   "execution_count": 2,
   "id": "7dc4fdb3",
   "metadata": {},
   "outputs": [],
   "source": [
    "file = '/home/darlan/Documents/RAF.csv'\n",
    "df = pd.read_csv(file, sep =',')"
   ]
  },
  {
   "cell_type": "code",
   "execution_count": 4,
   "id": "14fb7981",
   "metadata": {},
   "outputs": [
    {
     "name": "stdout",
     "output_type": "stream",
     "text": [
      "(846, 25)\n"
     ]
    }
   ],
   "source": [
    "print(df.shape)"
   ]
  },
  {
   "cell_type": "code",
   "execution_count": 83,
   "id": "8e91aa0b",
   "metadata": {},
   "outputs": [
    {
     "name": "stdout",
     "output_type": "stream",
     "text": [
      "<class 'pandas.core.frame.DataFrame'>\n",
      "RangeIndex: 846 entries, 0 to 845\n",
      "Data columns (total 25 columns):\n",
      " #   Column                     Non-Null Count  Dtype  \n",
      "---  ------                     --------------  -----  \n",
      " 0   mes                        846 non-null    object \n",
      " 1   ano                        638 non-null    float64\n",
      " 2   ocorrencia                 817 non-null    object \n",
      " 3   uc                         828 non-null    object \n",
      " 4   pf_pj                      828 non-null    object \n",
      " 5   eh_cliente                 828 non-null    object \n",
      " 6   nome_cliente               846 non-null    object \n",
      " 7   motivo_reclamacao          824 non-null    object \n",
      " 8   sub_motivo_sys             827 non-null    object \n",
      " 9   reclamacao_precede         827 non-null    object \n",
      " 10  ja_reclamou                839 non-null    object \n",
      " 11  cidade                     598 non-null    object \n",
      " 12  estado                     830 non-null    object \n",
      " 13  id_cms                     587 non-null    object \n",
      " 14  id_ra                      612 non-null    object \n",
      " 15  ponto_contato              845 non-null    object \n",
      " 16  voz_cliente                777 non-null    object \n",
      " 17  respondida                 841 non-null    object \n",
      " 18  data_abertura              833 non-null    object \n",
      " 19  data_resposta              719 non-null    object \n",
      " 20  quem_ligou                 449 non-null    object \n",
      " 21  voltaria_a_fazer_negocios  826 non-null    object \n",
      " 22  nota                       296 non-null    object \n",
      " 23  mes_referencia             846 non-null    object \n",
      " 24  motivos_contato            846 non-null    object \n",
      "dtypes: float64(1), object(24)\n",
      "memory usage: 165.4+ KB\n"
     ]
    }
   ],
   "source": [
    "df.info()"
   ]
  },
  {
   "cell_type": "code",
   "execution_count": 84,
   "id": "ae858cd7",
   "metadata": {},
   "outputs": [],
   "source": [
    "#df = df.drop('quem_ligou', axis=1)\n",
    "df = df.drop('mes_referencia', axis=1)\n",
    "df = df.drop('motivos_contato', axis=1)\n",
    "\n",
    "df = df[df['voltaria_a_fazer_negocios'].notna()]\n",
    "df = df[df['id_ra'].notna()]\n",
    "df = df[df['id_cms'].notna()]\n",
    "df = df[df['pf_pj'].notna()]\n",
    "df = df[df['ocorrencia'].notna()]\n",
    "df = df[df['respondida'].notna()]\n",
    "df = df[df['reclamacao_precede'].notna()]\n",
    "df = df[df['sub_motivo_sys'].notna()]\n",
    "\n",
    "df = df[df['eh_cliente'] != '-']\n",
    "df = df[df['reclamacao_precede'] != '-']\n",
    "df = df[df['cidade'] != '0']\n",
    "df = df[df['uc'] != '0']\n",
    "\n",
    "df['voz_cliente'].fillna('Dor', inplace = True)\n",
    "df['quem_ligou'].fillna('Não identificado', inplace = True)\n",
    "df['motivo_reclamacao'].fillna('Cobrança Indevida', inplace = True)\n",
    "\n",
    "df['ano'].fillna(df['ocorrencia'].str[:4], inplace = True)\n",
    "df['cidade'].fillna('Belo Horizonte', inplace = True)\n",
    "\n",
    "df['pf_pj'] = df['pf_pj'].replace('-', 'PF')\n",
    "df['pf_pj'] = df['pf_pj'].replace('0', 'PF')\n",
    "df['pf_pj'] = df['pf_pj'].str.upper()\n",
    "\n",
    "df['eh_cliente'] = df['eh_cliente'].str.upper()\n",
    "df['eh_cliente'] = df['eh_cliente'].replace('SIIM', 'SIM')\n",
    "df['eh_cliente'] = df['eh_cliente'].replace('NÃO LOCALIZADO', 'NÃO')\n",
    "df['eh_cliente'] = df['eh_cliente'].replace('0', 'NÃO')\n",
    "\n",
    "df['voz_cliente'] = df['voz_cliente'].str.upper()\n",
    "df['voz_cliente'] = df['voz_cliente'].replace('RECLAME AQUI', 'DOR')\n",
    "\n",
    "df['reclamacao_precede'] = df['reclamacao_precede'].str.upper()\n",
    "\n",
    "df['respondida'] = df['respondida'].str.upper()\n",
    "df['respondida'] = df['respondida'].replace('SM', 'SIM')\n",
    "df['respondida'] = df['respondida'].replace('SIM - LIGAÇÃO', 'SIM')\n",
    "df['respondida'] = df['respondida'].replace('SIM - WHATSAPP', 'SIM')\n",
    "df['respondida'] = df['respondida'].replace('DESATIVADA NO RA', 'NÃO')\n",
    "df['respondida'] = df['respondida'].replace('DESATIVADA NO RA', 'NÃO')\n",
    "df['respondida'] = df['respondida'].replace('AINDA NÃO', 'SIM')\n",
    "\n",
    "df['voltaria_a_fazer_negocios'] = df['voltaria_a_fazer_negocios'].str.upper()\n",
    "\n",
    "df['data_resposta'] = df['data_resposta'].replace('06/04/203', '2023/04/06')\n",
    "locale.setlocale(locale.LC_ALL, 'pt_BR')\n",
    "\n",
    "formato = \"%Y/%m/%d\"\n",
    "\n",
    "df['data_abertura'] = df['data_abertura'].apply(lambda linha: datetime.strptime(linha, formato))\n",
    "df['data_resposta'] = df['data_resposta'].apply(lambda linha: datetime.strptime(linha, formato) if pd.notnull(linha) and linha != '_' else pd.NA)\n",
    "\n",
    "\n",
    "df['nota'] = df['nota'].replace('-', None)\n",
    "df['nota'] = df['nota'].apply(lambda number: int(number) if pd.notnull(number) else pd.NA)\n",
    "\n",
    "\n",
    "df['ano'] = df['ano'].replace(2023.0, 2023)\n",
    "df['ano'] = df['ano'].replace('2023', 2023)"
   ]
  },
  {
   "cell_type": "code",
   "execution_count": 85,
   "id": "a0081b44",
   "metadata": {},
   "outputs": [],
   "source": [
    "months = {\"Janeiro\":1, \"Fevereiro\":2, \"Março\":3, \"Abril\":4, \"Maio\":5, \"Junho\":6, \n",
    "          \"Julho\":7, \"Agosto\":8, \"Setembro\":9, \"Outubro\":10, \"Novembro\":11, \"Dezembro\":12}\n",
    "\n",
    "df['mes_num'] = df['mes'].map(months)"
   ]
  },
  {
   "cell_type": "code",
   "execution_count": 86,
   "id": "fc0c49b1",
   "metadata": {},
   "outputs": [],
   "source": [
    "def apply_nps_desc(number):\n",
    "    if number is not None and type(number) == int:\n",
    "        if number in (9,10):\n",
    "            return 'PROMOTOR'\n",
    "        if number in (7,8):\n",
    "            return 'PASSIVO'\n",
    "        if number < 7:\n",
    "            return 'DETRATOR'\n",
    "    \n",
    "    return ''"
   ]
  },
  {
   "cell_type": "code",
   "execution_count": 87,
   "id": "db721f36",
   "metadata": {},
   "outputs": [],
   "source": [
    "df['nota'] = df['nota'].apply(lambda number: int(number) if pd.notnull(number) else pd.NA)\n"
   ]
  },
  {
   "cell_type": "code",
   "execution_count": 88,
   "id": "7db6dcd0",
   "metadata": {},
   "outputs": [],
   "source": [
    "df['nps_desc'] = df['nota'].apply(apply_nps_desc)"
   ]
  },
  {
   "cell_type": "code",
   "execution_count": 89,
   "id": "68c99fe5",
   "metadata": {},
   "outputs": [],
   "source": [
    "df.to_csv('data_complaints.csv', sep=',', index=False, encoding='utf-8')"
   ]
  }
 ],
 "metadata": {
  "kernelspec": {
   "display_name": "Python 3 (ipykernel)",
   "language": "python",
   "name": "python3"
  },
  "language_info": {
   "codemirror_mode": {
    "name": "ipython",
    "version": 3
   },
   "file_extension": ".py",
   "mimetype": "text/x-python",
   "name": "python",
   "nbconvert_exporter": "python",
   "pygments_lexer": "ipython3",
   "version": "3.11.6"
  }
 },
 "nbformat": 4,
 "nbformat_minor": 5
}
